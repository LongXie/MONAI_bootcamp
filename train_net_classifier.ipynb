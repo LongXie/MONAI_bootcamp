# load library and initiliaze
%matplotlib inline
import torch
import torch.nn as nn
import numpy as np
import matplotlib.pyplot as plt
import glob
import timeit
import datetime
import getpass
import os
import shutil
import PIL
import random
import csv
import pandas as pd
import IPython
import sys
from sklearn.metrics import classification_report, confusion_matrix

import monai
from monai.data import PILReader, Dataset, DataLoader
from monai.transforms import (
    AddChannel,
    Compose,
    Lambda,
    LoadImage,
    Resize,
    RandFlip,
    RandRotate,
    RandZoom,
    ScaleIntensity,
    NormalizeIntensity,
    ToTensor,
)
from monai.config import print_config
from monai.metrics import compute_roc_auc
from monai.networks.nets import Classifier, densenet121
from monai.data import CacheDataset
